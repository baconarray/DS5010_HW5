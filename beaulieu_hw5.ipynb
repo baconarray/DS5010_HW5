{
 "cells": [
  {
   "cell_type": "markdown",
   "id": "c5e0d3ad",
   "metadata": {},
   "source": [
    "<div class=\"alert alert-block alert-info\">\n",
    "    <b><p style=\"font-size: XX-large\">Instruction</p></b> </div>"
   ]
  },
  {
   "cell_type": "markdown",
   "id": "f695f720",
   "metadata": {},
   "source": [
    "        \n",
    "\n",
    "* **For submission, choose ONLY one of the following methods that you are comfortable with:**\n",
    "    > 1. submit a single (.ipynb) file with all the answers. Be sure to name each problem clearly so that we know which question you are answering.\n",
    "    \n",
    "    > 2. put the 5 py files (one for each question) into a folder and zip it, and upload the zip file to Gradescope. Just remember to name each py file clearly so we know which question you are answering.\n",
    "\n",
    "\n",
    "*  You are welcome to discuss these problems with other students in class, but you must write up the solution yourself, and indicate who you discussed it with (if any)."
   ]
  },
  {
   "cell_type": "markdown",
   "id": "951369ed",
   "metadata": {},
   "source": [
    "## Problem 1: Combine Dataframes"
   ]
  },
  {
   "cell_type": "markdown",
   "id": "1a6e85dc",
   "metadata": {},
   "source": [
    "1. (2 pt) Create the following two dataframes and display the dataframes.\n",
    "<img src=\"Files/fig1.png\" width=\"100\"> <img src=\"Files/fig2.png\" width=\"100\">\n",
    "2. (6 pt) Merge two dataframe in question 1 based on the common column \"Id\". Display the resulting dataframe. (use the default value of argument `how`)\n",
    "3. (6 pt)  **Outer** merge two dataframe in question 1 on **index**. Display the new dataframe.\n",
    "4. (6 pt) Create the following dataframe, df4, and display this dataframe. Fill null values in the resulting dataframe in question 3 with non-null values from df4. Display the resulting dataframe.(Hint: [.combine_first()](https://pandas.pydata.org/docs/reference/api/pandas.DataFrame.combine_first.html#pandas.DataFrame.combine_first))\n",
    "<img src=\"Files/fig3.png\" width=\"200\">"
   ]
  },
  {
   "cell_type": "code",
   "execution_count": 3,
   "id": "587a1609",
   "metadata": {
    "scrolled": false
   },
   "outputs": [],
   "source": [
    "data1 = {'Id': [1,2,3,4], \n",
    "         'Value1':['A','B','C','D']}\n",
    "\n",
    "data2 = {'Id': [1,3,5], \n",
    "         'Value2':['E','F','G']}\n",
    "\n",
    "data4 = {'Id_x':[0,1,2,3,4],\n",
    "        'Value1':['A','B','C','D','E'],\n",
    "        'Id_y':[0,1,2,3,4],\n",
    "        'Value2':['A','B','C','D','E']}\n",
    "\n",
    "# Specify the index when you create the dataframes."
   ]
  },
  {
   "cell_type": "code",
   "execution_count": null,
   "id": "af0e6a1d",
   "metadata": {},
   "outputs": [],
   "source": []
  },
  {
   "cell_type": "code",
   "execution_count": null,
   "id": "892b9828",
   "metadata": {},
   "outputs": [],
   "source": []
  },
  {
   "cell_type": "code",
   "execution_count": null,
   "id": "f8cdf329",
   "metadata": {},
   "outputs": [],
   "source": []
  },
  {
   "cell_type": "code",
   "execution_count": null,
   "id": "cb316f91",
   "metadata": {},
   "outputs": [],
   "source": []
  },
  {
   "cell_type": "markdown",
   "id": "5407c072",
   "metadata": {},
   "source": [
    "---------------------------"
   ]
  },
  {
   "cell_type": "markdown",
   "id": "f0dfa459",
   "metadata": {},
   "source": [
    "## Problem 2: Combine three Dataframes"
   ]
  },
  {
   "cell_type": "markdown",
   "id": "98229f71",
   "metadata": {},
   "source": [
    "1. Create the following dataframes and use these dataframes to solve the next two questions.\n",
    "<img src=\"Files/fig4.png\" width=\"500\">\n",
    "\n",
    "2. (10 pt) Can we concatenate three DataFrames into one Dataframe using the `pd.concat` function **in one step** ? Try to display the concatenated dataframe. (Hint: using the `pd.concat` function with default arguments. Don't provide any additional arguments to `pd.concat'.)\n",
    "3. (10 pt) Firstly merge df1 and df2 on mutilple keys('ID1','ID2') and then merges the result with df3 on different key columns ('ID2','ID3').\\\n",
    "(Hint: using two `pd.merge`. In the first `pd.merge`,you need to specify the keys using `on`. In the second `pd.merge` function, you need to explicitly specify the key columns using `left_on` and `right_on`.)"
   ]
  },
  {
   "cell_type": "code",
   "execution_count": 5,
   "id": "c1ee68c4",
   "metadata": {},
   "outputs": [],
   "source": [
    "\n",
    "# Create df1\n",
    "data1 = {'ID1': [1, 2, 3],\n",
    "         'ID2': [101, 102, 103],\n",
    "         'Value1': ['A', 'B', 'C']}\n",
    "\n",
    "\n",
    "# Create df2\n",
    "data2 = {'ID1': [2, 3, 4],\n",
    "         'ID2': [102, 103, 104],\n",
    "         'Value2': ['X', 'Y', 'Z']}\n",
    "\n",
    "# Create df3\n",
    "data3 = {'ID3': [101, 102, 103],\n",
    "         'Value3': ['Apple', 'Banana', 'Cherry']}\n"
   ]
  },
  {
   "cell_type": "code",
   "execution_count": null,
   "id": "af7b523b",
   "metadata": {},
   "outputs": [],
   "source": []
  },
  {
   "cell_type": "markdown",
   "id": "37ca02d7",
   "metadata": {},
   "source": [
    "------------------"
   ]
  },
  {
   "cell_type": "markdown",
   "id": "bac510db",
   "metadata": {},
   "source": [
    "## Problem 3 CSV-Part I Simple Groupby"
   ]
  },
  {
   "cell_type": "markdown",
   "id": "dce0fa1d",
   "metadata": {},
   "source": [
    "1. (4 pt) Read from the attached planets.csv and print out the head of this dataframe using `.head()`. Use hash symbol, #, and **briefly** explain the data set and the meaning of each column.\\\n",
    "**Each question in the following should have no more than 2 lines of code.**\n",
    "2. (4 pt) Drop rows with missing values(`inplace =False`) and then use `.describe()` to show a summary of the data statistics.\n",
    "3. (4 pt) Display the median of orbital period for each method.\n",
    "4. (4 pt) Display the average number of planets discovered per year.\\\n",
    "**Each question in the following should have no more than 4 lines of code.**\n",
    "5. (4 pt) Add a new column called 'decade' and it indicates the decade in which the planet was discovered. Find the proper value of decade for each row. Display the total number of planets discovered **in each decade** since 1900.\\\n",
    "(Hint: Using operations on existing columns to add a new column. Then use a boolean mask to select data in which the planet was discovered greater than or equal to 1980. Then use a groupby function.)"
   ]
  },
  {
   "cell_type": "code",
   "execution_count": null,
   "id": "1af26b93",
   "metadata": {},
   "outputs": [],
   "source": []
  },
  {
   "cell_type": "code",
   "execution_count": null,
   "id": "2ec7552b",
   "metadata": {},
   "outputs": [],
   "source": []
  },
  {
   "cell_type": "code",
   "execution_count": null,
   "id": "eead5b2b",
   "metadata": {},
   "outputs": [],
   "source": []
  },
  {
   "cell_type": "markdown",
   "id": "dfdb320a",
   "metadata": {},
   "source": [
    "------------------------------------"
   ]
  },
  {
   "cell_type": "markdown",
   "id": "9d00a457",
   "metadata": {},
   "source": [
    "## Problem 4 CSV-Part II Groupby with agg., transform, filter and idxmax."
   ]
  },
  {
   "cell_type": "markdown",
   "id": "618b2095",
   "metadata": {},
   "source": [
    "Using the same csv file (planets.csv) in problem 3 to solve the following questions:\\\n",
    "**Each question in the following should have no more than 4 lines of code.**\n",
    "1. (5 pt) Display all methods that had more than 900 planets being discovered.\n",
    "2. (5 pt) Display the maximum and minimum orbital period for planets discovered by each method. (Hint: groupby and aggregate)\n",
    "3. (5 pt) Create a new column called \"numbers_each_years\" and this indicates the cumulative number of planets discovered each year. Display the first 10 lines of the new dataframe. \\\n",
    "(Hint: using groupby and transform)\n",
    "4. (5 pt) Display the maximum orbital period for planets discovered by each method. Which method has the longest orbital periods?"
   ]
  },
  {
   "cell_type": "code",
   "execution_count": null,
   "id": "737aa7af",
   "metadata": {},
   "outputs": [],
   "source": []
  },
  {
   "cell_type": "code",
   "execution_count": null,
   "id": "c8a40fda",
   "metadata": {},
   "outputs": [],
   "source": []
  },
  {
   "cell_type": "code",
   "execution_count": null,
   "id": "17b8aba9",
   "metadata": {},
   "outputs": [],
   "source": []
  },
  {
   "cell_type": "code",
   "execution_count": null,
   "id": "6b189e9c",
   "metadata": {},
   "outputs": [],
   "source": []
  },
  {
   "cell_type": "markdown",
   "id": "41d0bb3b",
   "metadata": {},
   "source": [
    "-------------------------"
   ]
  },
  {
   "cell_type": "markdown",
   "id": "2965901c",
   "metadata": {},
   "source": [
    "## Problem 5 Dataframe Plot"
   ]
  },
  {
   "cell_type": "markdown",
   "id": "09e8295a",
   "metadata": {},
   "source": [
    "Using the same csv file (planets.csv) in problem 3 to solve the following questions:(Hint: [pd.Series.plot](https://pandas.pydata.org/docs/reference/api/pandas.Series.plot.html#pandas-series-plot))\\\n",
    "- plot requirements: \n",
    "- 1. should have one title \n",
    "- 2. should have xlabel and ylabel \n",
    "- 3. should have figsize \n",
    "- 4. should have grid line\n",
    "- 5. should have legend\n",
    "1. (10 pt) Display the total number of planets discovered in each year. Create a line plot of the number of planets discovered in each year. \n",
    "\n",
    "2. (10pt) Display the total number of planets discovered by each method. Create a bar plot of the number of planets discovered in each year. \n"
   ]
  },
  {
   "cell_type": "code",
   "execution_count": null,
   "id": "2b62bfc4",
   "metadata": {},
   "outputs": [],
   "source": []
  },
  {
   "cell_type": "code",
   "execution_count": null,
   "id": "93089290",
   "metadata": {},
   "outputs": [],
   "source": []
  },
  {
   "cell_type": "code",
   "execution_count": null,
   "id": "4d8e22e0",
   "metadata": {},
   "outputs": [],
   "source": []
  },
  {
   "cell_type": "markdown",
   "id": "23c2d34e",
   "metadata": {},
   "source": [
    "# DONE"
   ]
  }
 ],
 "metadata": {
  "kernelspec": {
   "display_name": "Python 3 (ipykernel)",
   "language": "python",
   "name": "python3"
  },
  "language_info": {
   "codemirror_mode": {
    "name": "ipython",
    "version": 3
   },
   "file_extension": ".py",
   "mimetype": "text/x-python",
   "name": "python",
   "nbconvert_exporter": "python",
   "pygments_lexer": "ipython3",
   "version": "3.11.5"
  }
 },
 "nbformat": 4,
 "nbformat_minor": 5
}
