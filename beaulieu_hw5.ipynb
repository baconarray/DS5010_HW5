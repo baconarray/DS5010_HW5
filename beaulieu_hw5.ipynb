{
 "cells": [
  {
   "cell_type": "markdown",
   "id": "c1375518",
   "metadata": {},
   "source": [
    "Tyler Beaulieu  \n",
    "DS5010, Fall 2024   \n",
    "October 21, 2024  \n",
    "\n",
    "<h4 style=\"text-align:center;\">Homework 5</h4>"
   ]
  },
  {
   "cell_type": "code",
   "execution_count": 33,
   "id": "ad0c0d97",
   "metadata": {},
   "outputs": [],
   "source": [
    "#Import Pandas and Numpy\n",
    "import pandas as pd\n",
    "import numpy as np"
   ]
  },
  {
   "cell_type": "markdown",
   "id": "951369ed",
   "metadata": {},
   "source": [
    "## Problem 1: Combine Dataframes"
   ]
  },
  {
   "cell_type": "markdown",
   "id": "1a6e85dc",
   "metadata": {},
   "source": [
    "1. (2 pt) Create the following two dataframes and display the dataframes.\n",
    "<img src=\"Files/fig1.png\" width=\"100\"> <img src=\"Files/fig2.png\" width=\"100\">"
   ]
  },
  {
   "cell_type": "code",
   "execution_count": 34,
   "id": "c0b67a1f",
   "metadata": {},
   "outputs": [
    {
     "data": {
      "text/html": [
       "<div>\n",
       "<style scoped>\n",
       "    .dataframe tbody tr th:only-of-type {\n",
       "        vertical-align: middle;\n",
       "    }\n",
       "\n",
       "    .dataframe tbody tr th {\n",
       "        vertical-align: top;\n",
       "    }\n",
       "\n",
       "    .dataframe thead th {\n",
       "        text-align: right;\n",
       "    }\n",
       "</style>\n",
       "<table border=\"1\" class=\"dataframe\">\n",
       "  <thead>\n",
       "    <tr style=\"text-align: right;\">\n",
       "      <th></th>\n",
       "      <th>Id</th>\n",
       "      <th>Value1</th>\n",
       "    </tr>\n",
       "  </thead>\n",
       "  <tbody>\n",
       "    <tr>\n",
       "      <th>X</th>\n",
       "      <td>1</td>\n",
       "      <td>A</td>\n",
       "    </tr>\n",
       "    <tr>\n",
       "      <th>Y</th>\n",
       "      <td>2</td>\n",
       "      <td>B</td>\n",
       "    </tr>\n",
       "    <tr>\n",
       "      <th>Z</th>\n",
       "      <td>3</td>\n",
       "      <td>C</td>\n",
       "    </tr>\n",
       "    <tr>\n",
       "      <th>W</th>\n",
       "      <td>4</td>\n",
       "      <td>D</td>\n",
       "    </tr>\n",
       "  </tbody>\n",
       "</table>\n",
       "</div>"
      ],
      "text/plain": [
       "   Id Value1\n",
       "X   1      A\n",
       "Y   2      B\n",
       "Z   3      C\n",
       "W   4      D"
      ]
     },
     "execution_count": 34,
     "metadata": {},
     "output_type": "execute_result"
    }
   ],
   "source": [
    "data1 = {'Id': [1,2,3,4], \n",
    "         'Value1':['A','B','C','D']}\n",
    "\n",
    "data2 = {'Id': [1,3,5], \n",
    "         'Value2':['E','F','G']}\n",
    "\n",
    "df1 = pd.DataFrame(data1,index=['X','Y','Z','W'])\n",
    "df1"
   ]
  },
  {
   "cell_type": "code",
   "execution_count": 35,
   "id": "cd47f626",
   "metadata": {},
   "outputs": [
    {
     "data": {
      "text/html": [
       "<div>\n",
       "<style scoped>\n",
       "    .dataframe tbody tr th:only-of-type {\n",
       "        vertical-align: middle;\n",
       "    }\n",
       "\n",
       "    .dataframe tbody tr th {\n",
       "        vertical-align: top;\n",
       "    }\n",
       "\n",
       "    .dataframe thead th {\n",
       "        text-align: right;\n",
       "    }\n",
       "</style>\n",
       "<table border=\"1\" class=\"dataframe\">\n",
       "  <thead>\n",
       "    <tr style=\"text-align: right;\">\n",
       "      <th></th>\n",
       "      <th>Id</th>\n",
       "      <th>Value2</th>\n",
       "    </tr>\n",
       "  </thead>\n",
       "  <tbody>\n",
       "    <tr>\n",
       "      <th>X</th>\n",
       "      <td>1</td>\n",
       "      <td>E</td>\n",
       "    </tr>\n",
       "    <tr>\n",
       "      <th>Z</th>\n",
       "      <td>3</td>\n",
       "      <td>F</td>\n",
       "    </tr>\n",
       "    <tr>\n",
       "      <th>Q</th>\n",
       "      <td>5</td>\n",
       "      <td>G</td>\n",
       "    </tr>\n",
       "  </tbody>\n",
       "</table>\n",
       "</div>"
      ],
      "text/plain": [
       "   Id Value2\n",
       "X   1      E\n",
       "Z   3      F\n",
       "Q   5      G"
      ]
     },
     "execution_count": 35,
     "metadata": {},
     "output_type": "execute_result"
    }
   ],
   "source": [
    "df2 = pd.DataFrame(data2,index=['X','Z','Q'])\n",
    "df2"
   ]
  },
  {
   "cell_type": "markdown",
   "id": "062b4fc7",
   "metadata": {},
   "source": [
    "2. (6 pt) Merge two dataframe in question 1 based on the common column \"Id\". Display the resulting dataframe. (use the default value of argument `how`)"
   ]
  },
  {
   "cell_type": "code",
   "execution_count": 36,
   "id": "f5b149e1",
   "metadata": {},
   "outputs": [
    {
     "data": {
      "text/html": [
       "<div>\n",
       "<style scoped>\n",
       "    .dataframe tbody tr th:only-of-type {\n",
       "        vertical-align: middle;\n",
       "    }\n",
       "\n",
       "    .dataframe tbody tr th {\n",
       "        vertical-align: top;\n",
       "    }\n",
       "\n",
       "    .dataframe thead th {\n",
       "        text-align: right;\n",
       "    }\n",
       "</style>\n",
       "<table border=\"1\" class=\"dataframe\">\n",
       "  <thead>\n",
       "    <tr style=\"text-align: right;\">\n",
       "      <th></th>\n",
       "      <th>Id</th>\n",
       "      <th>Value1</th>\n",
       "      <th>Value2</th>\n",
       "    </tr>\n",
       "  </thead>\n",
       "  <tbody>\n",
       "    <tr>\n",
       "      <th>0</th>\n",
       "      <td>1</td>\n",
       "      <td>A</td>\n",
       "      <td>E</td>\n",
       "    </tr>\n",
       "    <tr>\n",
       "      <th>1</th>\n",
       "      <td>3</td>\n",
       "      <td>C</td>\n",
       "      <td>F</td>\n",
       "    </tr>\n",
       "  </tbody>\n",
       "</table>\n",
       "</div>"
      ],
      "text/plain": [
       "   Id Value1 Value2\n",
       "0   1      A      E\n",
       "1   3      C      F"
      ]
     },
     "execution_count": 36,
     "metadata": {},
     "output_type": "execute_result"
    }
   ],
   "source": [
    "df_merge = pd.merge(df1,df2,on=\"Id\")\n",
    "df_merge"
   ]
  },
  {
   "cell_type": "markdown",
   "id": "3db525a3",
   "metadata": {},
   "source": [
    "3. (6 pt)  **Outer** merge two dataframe in question 1 on **index**. Display the new dataframe."
   ]
  },
  {
   "cell_type": "code",
   "execution_count": 37,
   "id": "e9c27f64",
   "metadata": {},
   "outputs": [
    {
     "data": {
      "text/html": [
       "<div>\n",
       "<style scoped>\n",
       "    .dataframe tbody tr th:only-of-type {\n",
       "        vertical-align: middle;\n",
       "    }\n",
       "\n",
       "    .dataframe tbody tr th {\n",
       "        vertical-align: top;\n",
       "    }\n",
       "\n",
       "    .dataframe thead th {\n",
       "        text-align: right;\n",
       "    }\n",
       "</style>\n",
       "<table border=\"1\" class=\"dataframe\">\n",
       "  <thead>\n",
       "    <tr style=\"text-align: right;\">\n",
       "      <th></th>\n",
       "      <th>Id_x</th>\n",
       "      <th>Value1</th>\n",
       "      <th>Id_y</th>\n",
       "      <th>Value2</th>\n",
       "    </tr>\n",
       "  </thead>\n",
       "  <tbody>\n",
       "    <tr>\n",
       "      <th>Q</th>\n",
       "      <td>NaN</td>\n",
       "      <td>NaN</td>\n",
       "      <td>5.0</td>\n",
       "      <td>G</td>\n",
       "    </tr>\n",
       "    <tr>\n",
       "      <th>W</th>\n",
       "      <td>4.0</td>\n",
       "      <td>D</td>\n",
       "      <td>NaN</td>\n",
       "      <td>NaN</td>\n",
       "    </tr>\n",
       "    <tr>\n",
       "      <th>X</th>\n",
       "      <td>1.0</td>\n",
       "      <td>A</td>\n",
       "      <td>1.0</td>\n",
       "      <td>E</td>\n",
       "    </tr>\n",
       "    <tr>\n",
       "      <th>Y</th>\n",
       "      <td>2.0</td>\n",
       "      <td>B</td>\n",
       "      <td>NaN</td>\n",
       "      <td>NaN</td>\n",
       "    </tr>\n",
       "    <tr>\n",
       "      <th>Z</th>\n",
       "      <td>3.0</td>\n",
       "      <td>C</td>\n",
       "      <td>3.0</td>\n",
       "      <td>F</td>\n",
       "    </tr>\n",
       "  </tbody>\n",
       "</table>\n",
       "</div>"
      ],
      "text/plain": [
       "   Id_x Value1  Id_y Value2\n",
       "Q   NaN    NaN   5.0      G\n",
       "W   4.0      D   NaN    NaN\n",
       "X   1.0      A   1.0      E\n",
       "Y   2.0      B   NaN    NaN\n",
       "Z   3.0      C   3.0      F"
      ]
     },
     "execution_count": 37,
     "metadata": {},
     "output_type": "execute_result"
    }
   ],
   "source": [
    "df_merge = pd.merge(df1,df2,how=\"outer\",left_index=True, right_index=True)\n",
    "df_merge"
   ]
  },
  {
   "cell_type": "markdown",
   "id": "a8906cb8",
   "metadata": {},
   "source": [
    "4. (6 pt) Create the following dataframe, df4, and display this dataframe. Fill null values in the resulting dataframe in question 3 with non-null values from df4. Display the resulting dataframe.(Hint: [.combine_first()](https://pandas.pydata.org/docs/reference/api/pandas.DataFrame.combine_first.html#pandas.DataFrame.combine_first))\n",
    "<img src=\"Files/fig3.png\" width=\"200\">"
   ]
  },
  {
   "cell_type": "code",
   "execution_count": 38,
   "id": "587a1609",
   "metadata": {
    "scrolled": false
   },
   "outputs": [
    {
     "data": {
      "text/html": [
       "<div>\n",
       "<style scoped>\n",
       "    .dataframe tbody tr th:only-of-type {\n",
       "        vertical-align: middle;\n",
       "    }\n",
       "\n",
       "    .dataframe tbody tr th {\n",
       "        vertical-align: top;\n",
       "    }\n",
       "\n",
       "    .dataframe thead th {\n",
       "        text-align: right;\n",
       "    }\n",
       "</style>\n",
       "<table border=\"1\" class=\"dataframe\">\n",
       "  <thead>\n",
       "    <tr style=\"text-align: right;\">\n",
       "      <th></th>\n",
       "      <th>Id_x</th>\n",
       "      <th>Value1</th>\n",
       "      <th>Id_y</th>\n",
       "      <th>Value2</th>\n",
       "    </tr>\n",
       "  </thead>\n",
       "  <tbody>\n",
       "    <tr>\n",
       "      <th>Q</th>\n",
       "      <td>0.0</td>\n",
       "      <td>A</td>\n",
       "      <td>5.0</td>\n",
       "      <td>G</td>\n",
       "    </tr>\n",
       "    <tr>\n",
       "      <th>W</th>\n",
       "      <td>4.0</td>\n",
       "      <td>D</td>\n",
       "      <td>1.0</td>\n",
       "      <td>B</td>\n",
       "    </tr>\n",
       "    <tr>\n",
       "      <th>X</th>\n",
       "      <td>1.0</td>\n",
       "      <td>A</td>\n",
       "      <td>1.0</td>\n",
       "      <td>E</td>\n",
       "    </tr>\n",
       "    <tr>\n",
       "      <th>Y</th>\n",
       "      <td>2.0</td>\n",
       "      <td>B</td>\n",
       "      <td>3.0</td>\n",
       "      <td>D</td>\n",
       "    </tr>\n",
       "    <tr>\n",
       "      <th>Z</th>\n",
       "      <td>3.0</td>\n",
       "      <td>C</td>\n",
       "      <td>3.0</td>\n",
       "      <td>F</td>\n",
       "    </tr>\n",
       "  </tbody>\n",
       "</table>\n",
       "</div>"
      ],
      "text/plain": [
       "   Id_x Value1  Id_y Value2\n",
       "Q   0.0      A   5.0      G\n",
       "W   4.0      D   1.0      B\n",
       "X   1.0      A   1.0      E\n",
       "Y   2.0      B   3.0      D\n",
       "Z   3.0      C   3.0      F"
      ]
     },
     "execution_count": 38,
     "metadata": {},
     "output_type": "execute_result"
    }
   ],
   "source": [
    "data4 = {'Id_x':[0,1,2,3,4],\n",
    "        'Value1':['A','B','C','D','E'],\n",
    "        'Id_y':[0,1,2,3,4],\n",
    "        'Value2':['A','B','C','D','E']}\n",
    "\n",
    "df4=pd.DataFrame(data4,index=['Q','W','X','Y','Z'])\n",
    "df_merge = df_merge.combine_first(df4)\n",
    "df_merge"
   ]
  },
  {
   "cell_type": "markdown",
   "id": "5407c072",
   "metadata": {},
   "source": [
    "---------------------------"
   ]
  },
  {
   "cell_type": "markdown",
   "id": "f0dfa459",
   "metadata": {},
   "source": [
    "## Problem 2: Combine three Dataframes"
   ]
  },
  {
   "cell_type": "markdown",
   "id": "98229f71",
   "metadata": {},
   "source": [
    "1. Create the following dataframes and use these dataframes to solve the next two questions.\n",
    "<img src=\"Files/fig4.png\" width=\"500\">"
   ]
  },
  {
   "cell_type": "code",
   "execution_count": 39,
   "id": "c1ee68c4",
   "metadata": {},
   "outputs": [],
   "source": [
    "\n",
    "# Create df1\n",
    "data1 = {'ID1': [1, 2, 3],\n",
    "         'ID2': [101, 102, 103],\n",
    "         'Value1': ['A', 'B', 'C']}\n",
    "df1 = pd.DataFrame(data1)\n",
    "\n",
    "# Create df2\n",
    "data2 = {'ID1': [2, 3, 4],\n",
    "         'ID2': [102, 103, 104],\n",
    "         'Value2': ['X', 'Y', 'Z']}\n",
    "df2 = pd.DataFrame(data2)\n",
    "\n",
    "# Create df3\n",
    "data3 = {'ID3': [101, 102, 103],\n",
    "         'Value3': ['Apple', 'Banana', 'Cherry']}\n",
    "df3 = pd.DataFrame(data3)\n",
    "\n"
   ]
  },
  {
   "cell_type": "markdown",
   "id": "b20f2448",
   "metadata": {},
   "source": [
    "2. (10 pt) Can we concatenate three DataFrames into one Dataframe using the `pd.concat` function **in one step** ? Try to display the concatenated dataframe. (Hint: using the `pd.concat` function with default arguments. Don't provide any additional arguments to `pd.concat'.)"
   ]
  },
  {
   "cell_type": "code",
   "execution_count": 40,
   "id": "af7b523b",
   "metadata": {},
   "outputs": [
    {
     "data": {
      "text/html": [
       "<div>\n",
       "<style scoped>\n",
       "    .dataframe tbody tr th:only-of-type {\n",
       "        vertical-align: middle;\n",
       "    }\n",
       "\n",
       "    .dataframe tbody tr th {\n",
       "        vertical-align: top;\n",
       "    }\n",
       "\n",
       "    .dataframe thead th {\n",
       "        text-align: right;\n",
       "    }\n",
       "</style>\n",
       "<table border=\"1\" class=\"dataframe\">\n",
       "  <thead>\n",
       "    <tr style=\"text-align: right;\">\n",
       "      <th></th>\n",
       "      <th>ID1</th>\n",
       "      <th>ID2</th>\n",
       "      <th>Value1</th>\n",
       "      <th>Value2</th>\n",
       "      <th>ID3</th>\n",
       "      <th>Value3</th>\n",
       "    </tr>\n",
       "  </thead>\n",
       "  <tbody>\n",
       "    <tr>\n",
       "      <th>0</th>\n",
       "      <td>1.0</td>\n",
       "      <td>101.0</td>\n",
       "      <td>A</td>\n",
       "      <td>NaN</td>\n",
       "      <td>NaN</td>\n",
       "      <td>NaN</td>\n",
       "    </tr>\n",
       "    <tr>\n",
       "      <th>1</th>\n",
       "      <td>2.0</td>\n",
       "      <td>102.0</td>\n",
       "      <td>B</td>\n",
       "      <td>NaN</td>\n",
       "      <td>NaN</td>\n",
       "      <td>NaN</td>\n",
       "    </tr>\n",
       "    <tr>\n",
       "      <th>2</th>\n",
       "      <td>3.0</td>\n",
       "      <td>103.0</td>\n",
       "      <td>C</td>\n",
       "      <td>NaN</td>\n",
       "      <td>NaN</td>\n",
       "      <td>NaN</td>\n",
       "    </tr>\n",
       "    <tr>\n",
       "      <th>0</th>\n",
       "      <td>2.0</td>\n",
       "      <td>102.0</td>\n",
       "      <td>NaN</td>\n",
       "      <td>X</td>\n",
       "      <td>NaN</td>\n",
       "      <td>NaN</td>\n",
       "    </tr>\n",
       "    <tr>\n",
       "      <th>1</th>\n",
       "      <td>3.0</td>\n",
       "      <td>103.0</td>\n",
       "      <td>NaN</td>\n",
       "      <td>Y</td>\n",
       "      <td>NaN</td>\n",
       "      <td>NaN</td>\n",
       "    </tr>\n",
       "    <tr>\n",
       "      <th>2</th>\n",
       "      <td>4.0</td>\n",
       "      <td>104.0</td>\n",
       "      <td>NaN</td>\n",
       "      <td>Z</td>\n",
       "      <td>NaN</td>\n",
       "      <td>NaN</td>\n",
       "    </tr>\n",
       "    <tr>\n",
       "      <th>0</th>\n",
       "      <td>NaN</td>\n",
       "      <td>NaN</td>\n",
       "      <td>NaN</td>\n",
       "      <td>NaN</td>\n",
       "      <td>101.0</td>\n",
       "      <td>Apple</td>\n",
       "    </tr>\n",
       "    <tr>\n",
       "      <th>1</th>\n",
       "      <td>NaN</td>\n",
       "      <td>NaN</td>\n",
       "      <td>NaN</td>\n",
       "      <td>NaN</td>\n",
       "      <td>102.0</td>\n",
       "      <td>Banana</td>\n",
       "    </tr>\n",
       "    <tr>\n",
       "      <th>2</th>\n",
       "      <td>NaN</td>\n",
       "      <td>NaN</td>\n",
       "      <td>NaN</td>\n",
       "      <td>NaN</td>\n",
       "      <td>103.0</td>\n",
       "      <td>Cherry</td>\n",
       "    </tr>\n",
       "  </tbody>\n",
       "</table>\n",
       "</div>"
      ],
      "text/plain": [
       "   ID1    ID2 Value1 Value2    ID3  Value3\n",
       "0  1.0  101.0      A    NaN    NaN     NaN\n",
       "1  2.0  102.0      B    NaN    NaN     NaN\n",
       "2  3.0  103.0      C    NaN    NaN     NaN\n",
       "0  2.0  102.0    NaN      X    NaN     NaN\n",
       "1  3.0  103.0    NaN      Y    NaN     NaN\n",
       "2  4.0  104.0    NaN      Z    NaN     NaN\n",
       "0  NaN    NaN    NaN    NaN  101.0   Apple\n",
       "1  NaN    NaN    NaN    NaN  102.0  Banana\n",
       "2  NaN    NaN    NaN    NaN  103.0  Cherry"
      ]
     },
     "execution_count": 40,
     "metadata": {},
     "output_type": "execute_result"
    }
   ],
   "source": [
    "pd.concat((df1,df2,df3))"
   ]
  },
  {
   "cell_type": "markdown",
   "id": "8e57079c",
   "metadata": {},
   "source": [
    "3. (10 pt) Firstly merge df1 and df2 on mutilple keys('ID1','ID2') and then merges the result with df3 on different key columns ('ID2','ID3').\\\n",
    "(Hint: using two `pd.merge`. In the first `pd.merge`,you need to specify the keys using `on`. In the second `pd.merge` function, you need to explicitly specify the key columns using `left_on` and `right_on`.)"
   ]
  },
  {
   "cell_type": "code",
   "execution_count": 47,
   "id": "1678cb3b",
   "metadata": {},
   "outputs": [
    {
     "data": {
      "text/html": [
       "<div>\n",
       "<style scoped>\n",
       "    .dataframe tbody tr th:only-of-type {\n",
       "        vertical-align: middle;\n",
       "    }\n",
       "\n",
       "    .dataframe tbody tr th {\n",
       "        vertical-align: top;\n",
       "    }\n",
       "\n",
       "    .dataframe thead th {\n",
       "        text-align: right;\n",
       "    }\n",
       "</style>\n",
       "<table border=\"1\" class=\"dataframe\">\n",
       "  <thead>\n",
       "    <tr style=\"text-align: right;\">\n",
       "      <th></th>\n",
       "      <th>ID1</th>\n",
       "      <th>ID2</th>\n",
       "      <th>Value1</th>\n",
       "      <th>Value2</th>\n",
       "    </tr>\n",
       "  </thead>\n",
       "  <tbody>\n",
       "    <tr>\n",
       "      <th>0</th>\n",
       "      <td>2</td>\n",
       "      <td>102</td>\n",
       "      <td>B</td>\n",
       "      <td>X</td>\n",
       "    </tr>\n",
       "    <tr>\n",
       "      <th>1</th>\n",
       "      <td>3</td>\n",
       "      <td>103</td>\n",
       "      <td>C</td>\n",
       "      <td>Y</td>\n",
       "    </tr>\n",
       "  </tbody>\n",
       "</table>\n",
       "</div>"
      ],
      "text/plain": [
       "   ID1  ID2 Value1 Value2\n",
       "0    2  102      B      X\n",
       "1    3  103      C      Y"
      ]
     },
     "execution_count": 48,
     "metadata": {},
     "output_type": "execute_result"
    }
   ],
   "source": [
    "df12 = pd.merge(df1,df2,on=['ID1','ID2'])\n",
    "df12"
   ]
  },
  {
   "cell_type": "code",
   "execution_count": 46,
   "id": "fd20dad5",
   "metadata": {},
   "outputs": [
    {
     "data": {
      "text/html": [
       "<div>\n",
       "<style scoped>\n",
       "    .dataframe tbody tr th:only-of-type {\n",
       "        vertical-align: middle;\n",
       "    }\n",
       "\n",
       "    .dataframe tbody tr th {\n",
       "        vertical-align: top;\n",
       "    }\n",
       "\n",
       "    .dataframe thead th {\n",
       "        text-align: right;\n",
       "    }\n",
       "</style>\n",
       "<table border=\"1\" class=\"dataframe\">\n",
       "  <thead>\n",
       "    <tr style=\"text-align: right;\">\n",
       "      <th></th>\n",
       "      <th>ID1</th>\n",
       "      <th>ID2</th>\n",
       "      <th>Value1</th>\n",
       "      <th>Value2</th>\n",
       "      <th>ID3</th>\n",
       "      <th>Value3</th>\n",
       "    </tr>\n",
       "  </thead>\n",
       "  <tbody>\n",
       "    <tr>\n",
       "      <th>0</th>\n",
       "      <td>2</td>\n",
       "      <td>102</td>\n",
       "      <td>B</td>\n",
       "      <td>X</td>\n",
       "      <td>102</td>\n",
       "      <td>Banana</td>\n",
       "    </tr>\n",
       "    <tr>\n",
       "      <th>1</th>\n",
       "      <td>3</td>\n",
       "      <td>103</td>\n",
       "      <td>C</td>\n",
       "      <td>Y</td>\n",
       "      <td>103</td>\n",
       "      <td>Cherry</td>\n",
       "    </tr>\n",
       "  </tbody>\n",
       "</table>\n",
       "</div>"
      ],
      "text/plain": [
       "   ID1  ID2 Value1 Value2  ID3  Value3\n",
       "0    2  102      B      X  102  Banana\n",
       "1    3  103      C      Y  103  Cherry"
      ]
     },
     "execution_count": 49,
     "metadata": {},
     "output_type": "execute_result"
    }
   ],
   "source": [
    "df123 = pd.merge(df12,df3,left_on='ID2',right_on='ID3')\n",
    "df123"
   ]
  },
  {
   "cell_type": "markdown",
   "id": "37ca02d7",
   "metadata": {},
   "source": [
    "------------------"
   ]
  },
  {
   "cell_type": "markdown",
   "id": "bac510db",
   "metadata": {},
   "source": [
    "## Problem 3 CSV-Part I Simple Groupby"
   ]
  },
  {
   "cell_type": "markdown",
   "id": "dce0fa1d",
   "metadata": {},
   "source": [
    "1. (4 pt) Read from the attached planets.csv and print out the head of this dataframe using `.head()`. Use hash symbol, #, and **briefly** explain the data set and the meaning of each column.\\\n"
   ]
  },
  {
   "cell_type": "code",
   "execution_count": 56,
   "id": "1af26b93",
   "metadata": {},
   "outputs": [
    {
     "data": {
      "text/html": [
       "<div>\n",
       "<style scoped>\n",
       "    .dataframe tbody tr th:only-of-type {\n",
       "        vertical-align: middle;\n",
       "    }\n",
       "\n",
       "    .dataframe tbody tr th {\n",
       "        vertical-align: top;\n",
       "    }\n",
       "\n",
       "    .dataframe thead th {\n",
       "        text-align: right;\n",
       "    }\n",
       "</style>\n",
       "<table border=\"1\" class=\"dataframe\">\n",
       "  <thead>\n",
       "    <tr style=\"text-align: right;\">\n",
       "      <th></th>\n",
       "      <th>method</th>\n",
       "      <th>number</th>\n",
       "      <th>orbital_period</th>\n",
       "      <th>mass</th>\n",
       "      <th>distance</th>\n",
       "      <th>year</th>\n",
       "    </tr>\n",
       "  </thead>\n",
       "  <tbody>\n",
       "    <tr>\n",
       "      <th>0</th>\n",
       "      <td>Radial Velocity</td>\n",
       "      <td>1</td>\n",
       "      <td>269.300</td>\n",
       "      <td>7.10</td>\n",
       "      <td>77.40</td>\n",
       "      <td>2006</td>\n",
       "    </tr>\n",
       "    <tr>\n",
       "      <th>1</th>\n",
       "      <td>Radial Velocity</td>\n",
       "      <td>1</td>\n",
       "      <td>874.774</td>\n",
       "      <td>2.21</td>\n",
       "      <td>56.95</td>\n",
       "      <td>2008</td>\n",
       "    </tr>\n",
       "    <tr>\n",
       "      <th>2</th>\n",
       "      <td>Radial Velocity</td>\n",
       "      <td>1</td>\n",
       "      <td>763.000</td>\n",
       "      <td>2.60</td>\n",
       "      <td>19.84</td>\n",
       "      <td>2011</td>\n",
       "    </tr>\n",
       "    <tr>\n",
       "      <th>3</th>\n",
       "      <td>Radial Velocity</td>\n",
       "      <td>1</td>\n",
       "      <td>326.030</td>\n",
       "      <td>19.40</td>\n",
       "      <td>110.62</td>\n",
       "      <td>2007</td>\n",
       "    </tr>\n",
       "    <tr>\n",
       "      <th>4</th>\n",
       "      <td>Radial Velocity</td>\n",
       "      <td>1</td>\n",
       "      <td>516.220</td>\n",
       "      <td>10.50</td>\n",
       "      <td>119.47</td>\n",
       "      <td>2009</td>\n",
       "    </tr>\n",
       "  </tbody>\n",
       "</table>\n",
       "</div>"
      ],
      "text/plain": [
       "            method  number  orbital_period   mass  distance  year\n",
       "0  Radial Velocity       1         269.300   7.10     77.40  2006\n",
       "1  Radial Velocity       1         874.774   2.21     56.95  2008\n",
       "2  Radial Velocity       1         763.000   2.60     19.84  2011\n",
       "3  Radial Velocity       1         326.030  19.40    110.62  2007\n",
       "4  Radial Velocity       1         516.220  10.50    119.47  2009"
      ]
     },
     "execution_count": 56,
     "metadata": {},
     "output_type": "execute_result"
    }
   ],
   "source": [
    "planets = pd.read_csv('Files/planets.csv')\n",
    "planets.head()\n",
    "#Data set shows details about exoplanets founds, such as the year, the method of discovery, and details about the planet."
   ]
  },
  {
   "cell_type": "markdown",
   "id": "00cf8d7e",
   "metadata": {},
   "source": [
    "**Each question in the following should have no more than 2 lines of code.**\\\n",
    "2. (4 pt) Drop rows with missing values(`inplace =False`) and then use `.describe()` to show a summary of the data statistics."
   ]
  },
  {
   "cell_type": "code",
   "execution_count": 58,
   "id": "2ec7552b",
   "metadata": {},
   "outputs": [
    {
     "data": {
      "text/html": [
       "<div>\n",
       "<style scoped>\n",
       "    .dataframe tbody tr th:only-of-type {\n",
       "        vertical-align: middle;\n",
       "    }\n",
       "\n",
       "    .dataframe tbody tr th {\n",
       "        vertical-align: top;\n",
       "    }\n",
       "\n",
       "    .dataframe thead th {\n",
       "        text-align: right;\n",
       "    }\n",
       "</style>\n",
       "<table border=\"1\" class=\"dataframe\">\n",
       "  <thead>\n",
       "    <tr style=\"text-align: right;\">\n",
       "      <th></th>\n",
       "      <th>number</th>\n",
       "      <th>orbital_period</th>\n",
       "      <th>mass</th>\n",
       "      <th>distance</th>\n",
       "      <th>year</th>\n",
       "    </tr>\n",
       "  </thead>\n",
       "  <tbody>\n",
       "    <tr>\n",
       "      <th>count</th>\n",
       "      <td>498.00000</td>\n",
       "      <td>498.000000</td>\n",
       "      <td>498.000000</td>\n",
       "      <td>498.000000</td>\n",
       "      <td>498.000000</td>\n",
       "    </tr>\n",
       "    <tr>\n",
       "      <th>mean</th>\n",
       "      <td>1.73494</td>\n",
       "      <td>835.778671</td>\n",
       "      <td>2.509320</td>\n",
       "      <td>52.068213</td>\n",
       "      <td>2007.377510</td>\n",
       "    </tr>\n",
       "    <tr>\n",
       "      <th>std</th>\n",
       "      <td>1.17572</td>\n",
       "      <td>1469.128259</td>\n",
       "      <td>3.636274</td>\n",
       "      <td>46.596041</td>\n",
       "      <td>4.167284</td>\n",
       "    </tr>\n",
       "    <tr>\n",
       "      <th>min</th>\n",
       "      <td>1.00000</td>\n",
       "      <td>1.328300</td>\n",
       "      <td>0.003600</td>\n",
       "      <td>1.350000</td>\n",
       "      <td>1989.000000</td>\n",
       "    </tr>\n",
       "    <tr>\n",
       "      <th>25%</th>\n",
       "      <td>1.00000</td>\n",
       "      <td>38.272250</td>\n",
       "      <td>0.212500</td>\n",
       "      <td>24.497500</td>\n",
       "      <td>2005.000000</td>\n",
       "    </tr>\n",
       "    <tr>\n",
       "      <th>50%</th>\n",
       "      <td>1.00000</td>\n",
       "      <td>357.000000</td>\n",
       "      <td>1.245000</td>\n",
       "      <td>39.940000</td>\n",
       "      <td>2009.000000</td>\n",
       "    </tr>\n",
       "    <tr>\n",
       "      <th>75%</th>\n",
       "      <td>2.00000</td>\n",
       "      <td>999.600000</td>\n",
       "      <td>2.867500</td>\n",
       "      <td>59.332500</td>\n",
       "      <td>2011.000000</td>\n",
       "    </tr>\n",
       "    <tr>\n",
       "      <th>max</th>\n",
       "      <td>6.00000</td>\n",
       "      <td>17337.500000</td>\n",
       "      <td>25.000000</td>\n",
       "      <td>354.000000</td>\n",
       "      <td>2014.000000</td>\n",
       "    </tr>\n",
       "  </tbody>\n",
       "</table>\n",
       "</div>"
      ],
      "text/plain": [
       "          number  orbital_period        mass    distance         year\n",
       "count  498.00000      498.000000  498.000000  498.000000   498.000000\n",
       "mean     1.73494      835.778671    2.509320   52.068213  2007.377510\n",
       "std      1.17572     1469.128259    3.636274   46.596041     4.167284\n",
       "min      1.00000        1.328300    0.003600    1.350000  1989.000000\n",
       "25%      1.00000       38.272250    0.212500   24.497500  2005.000000\n",
       "50%      1.00000      357.000000    1.245000   39.940000  2009.000000\n",
       "75%      2.00000      999.600000    2.867500   59.332500  2011.000000\n",
       "max      6.00000    17337.500000   25.000000  354.000000  2014.000000"
      ]
     },
     "execution_count": 58,
     "metadata": {},
     "output_type": "execute_result"
    }
   ],
   "source": [
    "planets = planets.dropna(inplace=False)\n",
    "planets.describe()"
   ]
  },
  {
   "cell_type": "markdown",
   "id": "ce365a69",
   "metadata": {},
   "source": [
    "3. (4 pt) Display the median of orbital period for each method."
   ]
  },
  {
   "cell_type": "code",
   "execution_count": 61,
   "id": "eead5b2b",
   "metadata": {},
   "outputs": [
    {
     "data": {
      "text/html": [
       "<div>\n",
       "<style scoped>\n",
       "    .dataframe tbody tr th:only-of-type {\n",
       "        vertical-align: middle;\n",
       "    }\n",
       "\n",
       "    .dataframe tbody tr th {\n",
       "        vertical-align: top;\n",
       "    }\n",
       "\n",
       "    .dataframe thead th {\n",
       "        text-align: right;\n",
       "    }\n",
       "</style>\n",
       "<table border=\"1\" class=\"dataframe\">\n",
       "  <thead>\n",
       "    <tr style=\"text-align: right;\">\n",
       "      <th></th>\n",
       "      <th>number</th>\n",
       "      <th>orbital_period</th>\n",
       "      <th>mass</th>\n",
       "      <th>distance</th>\n",
       "      <th>year</th>\n",
       "    </tr>\n",
       "    <tr>\n",
       "      <th>method</th>\n",
       "      <th></th>\n",
       "      <th></th>\n",
       "      <th></th>\n",
       "      <th></th>\n",
       "      <th></th>\n",
       "    </tr>\n",
       "  </thead>\n",
       "  <tbody>\n",
       "    <tr>\n",
       "      <th>Radial Velocity</th>\n",
       "      <td>1.0</td>\n",
       "      <td>358.00000</td>\n",
       "      <td>1.24</td>\n",
       "      <td>39.56</td>\n",
       "      <td>2009.0</td>\n",
       "    </tr>\n",
       "    <tr>\n",
       "      <th>Transit</th>\n",
       "      <td>1.0</td>\n",
       "      <td>2.70339</td>\n",
       "      <td>1.47</td>\n",
       "      <td>178.00</td>\n",
       "      <td>2013.0</td>\n",
       "    </tr>\n",
       "  </tbody>\n",
       "</table>\n",
       "</div>"
      ],
      "text/plain": [
       "                 number  orbital_period  mass  distance    year\n",
       "method                                                         \n",
       "Radial Velocity     1.0       358.00000  1.24     39.56  2009.0\n",
       "Transit             1.0         2.70339  1.47    178.00  2013.0"
      ]
     },
     "execution_count": 61,
     "metadata": {},
     "output_type": "execute_result"
    }
   ],
   "source": [
    "planets.groupby('method').median()"
   ]
  },
  {
   "cell_type": "markdown",
   "id": "7975465a",
   "metadata": {},
   "source": [
    "4. (4 pt) Display the average number of planets discovered per year."
   ]
  },
  {
   "cell_type": "code",
   "execution_count": 69,
   "id": "413c218f",
   "metadata": {},
   "outputs": [
    {
     "data": {
      "text/html": [
       "<div>\n",
       "<style scoped>\n",
       "    .dataframe tbody tr th:only-of-type {\n",
       "        vertical-align: middle;\n",
       "    }\n",
       "\n",
       "    .dataframe tbody tr th {\n",
       "        vertical-align: top;\n",
       "    }\n",
       "\n",
       "    .dataframe thead th {\n",
       "        text-align: right;\n",
       "    }\n",
       "</style>\n",
       "<table border=\"1\" class=\"dataframe\">\n",
       "  <thead>\n",
       "    <tr style=\"text-align: right;\">\n",
       "      <th></th>\n",
       "      <th>number</th>\n",
       "    </tr>\n",
       "    <tr>\n",
       "      <th>year</th>\n",
       "      <th></th>\n",
       "    </tr>\n",
       "  </thead>\n",
       "  <tbody>\n",
       "    <tr>\n",
       "      <th>1989</th>\n",
       "      <td>1.000000</td>\n",
       "    </tr>\n",
       "    <tr>\n",
       "      <th>1995</th>\n",
       "      <td>1.000000</td>\n",
       "    </tr>\n",
       "    <tr>\n",
       "      <th>1996</th>\n",
       "      <td>3.250000</td>\n",
       "    </tr>\n",
       "    <tr>\n",
       "      <th>1997</th>\n",
       "      <td>1.000000</td>\n",
       "    </tr>\n",
       "    <tr>\n",
       "      <th>1998</th>\n",
       "      <td>2.200000</td>\n",
       "    </tr>\n",
       "    <tr>\n",
       "      <th>1999</th>\n",
       "      <td>1.642857</td>\n",
       "    </tr>\n",
       "    <tr>\n",
       "      <th>2000</th>\n",
       "      <td>1.571429</td>\n",
       "    </tr>\n",
       "    <tr>\n",
       "      <th>2001</th>\n",
       "      <td>1.272727</td>\n",
       "    </tr>\n",
       "    <tr>\n",
       "      <th>2002</th>\n",
       "      <td>1.451613</td>\n",
       "    </tr>\n",
       "    <tr>\n",
       "      <th>2003</th>\n",
       "      <td>1.363636</td>\n",
       "    </tr>\n",
       "    <tr>\n",
       "      <th>2004</th>\n",
       "      <td>1.800000</td>\n",
       "    </tr>\n",
       "    <tr>\n",
       "      <th>2005</th>\n",
       "      <td>1.735294</td>\n",
       "    </tr>\n",
       "    <tr>\n",
       "      <th>2006</th>\n",
       "      <td>1.450000</td>\n",
       "    </tr>\n",
       "    <tr>\n",
       "      <th>2007</th>\n",
       "      <td>1.444444</td>\n",
       "    </tr>\n",
       "    <tr>\n",
       "      <th>2008</th>\n",
       "      <td>1.767442</td>\n",
       "    </tr>\n",
       "    <tr>\n",
       "      <th>2009</th>\n",
       "      <td>1.400000</td>\n",
       "    </tr>\n",
       "    <tr>\n",
       "      <th>2010</th>\n",
       "      <td>2.195122</td>\n",
       "    </tr>\n",
       "    <tr>\n",
       "      <th>2011</th>\n",
       "      <td>1.844444</td>\n",
       "    </tr>\n",
       "    <tr>\n",
       "      <th>2012</th>\n",
       "      <td>2.217391</td>\n",
       "    </tr>\n",
       "    <tr>\n",
       "      <th>2013</th>\n",
       "      <td>2.241379</td>\n",
       "    </tr>\n",
       "    <tr>\n",
       "      <th>2014</th>\n",
       "      <td>1.500000</td>\n",
       "    </tr>\n",
       "  </tbody>\n",
       "</table>\n",
       "</div>"
      ],
      "text/plain": [
       "        number\n",
       "year          \n",
       "1989  1.000000\n",
       "1995  1.000000\n",
       "1996  3.250000\n",
       "1997  1.000000\n",
       "1998  2.200000\n",
       "1999  1.642857\n",
       "2000  1.571429\n",
       "2001  1.272727\n",
       "2002  1.451613\n",
       "2003  1.363636\n",
       "2004  1.800000\n",
       "2005  1.735294\n",
       "2006  1.450000\n",
       "2007  1.444444\n",
       "2008  1.767442\n",
       "2009  1.400000\n",
       "2010  2.195122\n",
       "2011  1.844444\n",
       "2012  2.217391\n",
       "2013  2.241379\n",
       "2014  1.500000"
      ]
     },
     "execution_count": 69,
     "metadata": {},
     "output_type": "execute_result"
    }
   ],
   "source": [
    "planets.groupby('year')[['number']].mean()"
   ]
  },
  {
   "cell_type": "markdown",
   "id": "756fe26b",
   "metadata": {},
   "source": [
    "**Each question in the following should have no more than 4 lines of code.**\\\n",
    "5. (4 pt) Add a new column called 'decade' and it indicates the decade in which the planet was discovered. Find the proper value of decade for each row. Display the total number of planets discovered **in each decade** since 1900.\\\n",
    "(Hint: Using operations on existing columns to add a new column. Then use a boolean mask to select data in which the planet was discovered greater than or equal to 1980. Then use a groupby function.)"
   ]
  },
  {
   "cell_type": "code",
   "execution_count": 93,
   "id": "07cb984f",
   "metadata": {},
   "outputs": [
    {
     "data": {
      "text/plain": [
       "decade\n",
       "1990s     49\n",
       "2000s    439\n",
       "2010s    375\n",
       "Name: number, dtype: int64"
      ]
     },
     "execution_count": 93,
     "metadata": {},
     "output_type": "execute_result"
    }
   ],
   "source": [
    "planets['decade'] = planets['year'].map(lambda d: str(d)[0:3]+'0s')\n",
    "planet_bool = planets['year'] >= 1990\n",
    "planets[planet_bool == True].groupby('decade')['number'].sum()"
   ]
  },
  {
   "cell_type": "markdown",
   "id": "dfdb320a",
   "metadata": {},
   "source": [
    "------------------------------------"
   ]
  },
  {
   "cell_type": "markdown",
   "id": "9d00a457",
   "metadata": {},
   "source": [
    "## Problem 4 CSV-Part II Groupby with agg., transform, filter and idxmax."
   ]
  },
  {
   "cell_type": "markdown",
   "id": "618b2095",
   "metadata": {},
   "source": [
    "Using the same csv file (planets.csv) in problem 3 to solve the following questions:\\\n",
    "**Each question in the following should have no more than 4 lines of code.**\n",
    "1. (5 pt) Display all methods that had more than 900 planets being discovered."
   ]
  },
  {
   "cell_type": "code",
   "execution_count": 121,
   "id": "737aa7af",
   "metadata": {},
   "outputs": [
    {
     "data": {
      "text/plain": [
       "method\n",
       "Radial Velocity    952\n",
       "Name: number, dtype: int64"
      ]
     },
     "execution_count": 121,
     "metadata": {},
     "output_type": "execute_result"
    }
   ],
   "source": [
    "planets = pd.read_csv('Files/planets.csv')\n",
    "planets.groupby('method')['number'].sum()[planets.groupby('method')['number'].agg(lambda x: x.sum() > 900)]"
   ]
  },
  {
   "cell_type": "markdown",
   "id": "3179ef50",
   "metadata": {},
   "source": [
    "2. (5 pt) Display the maximum and minimum orbital period for planets discovered by each method. (Hint: groupby and aggregate)"
   ]
  },
  {
   "cell_type": "code",
   "execution_count": 126,
   "id": "c8a40fda",
   "metadata": {},
   "outputs": [
    {
     "data": {
      "text/plain": [
       "method\n",
       "Astrometry                             Max: 1016.0 Min: 246.36\n",
       "Eclipse Timing Variations            Max: 10220.0 Min: 1916.25\n",
       "Imaging                             Max: 730000.0 Min: 4639.15\n",
       "Microlensing                           Max: 5100.0 Min: 1825.0\n",
       "Orbital Brightness Modulation    Max: 1.54492875 Min: 0.240104\n",
       "Pulsar Timing                     Max: 36525.0 Min: 0.09070629\n",
       "Pulsation Timing Variations            Max: 1170.0 Min: 1170.0\n",
       "Radial Velocity                      Max: 17337.5 Min: 0.73654\n",
       "Transit                              Max: 331.60059 Min: 0.355\n",
       "Transit Timing Variations              Max: 160.0 Min: 22.3395\n",
       "Name: orbital_period, dtype: object"
      ]
     },
     "execution_count": 126,
     "metadata": {},
     "output_type": "execute_result"
    }
   ],
   "source": [
    "planets.groupby('method')['orbital_period'].agg(lambda x: str('Max: ')+str(x.max())+str(' Min: ')+str(x.min()))"
   ]
  },
  {
   "cell_type": "markdown",
   "id": "54c4fa30",
   "metadata": {},
   "source": [
    "3. (5 pt) Create a new column called \"numbers_each_years\" and this indicates the cumulative number of planets discovered each year. Display the first 10 lines of the new dataframe. \\\n",
    "(Hint: using groupby and transform)"
   ]
  },
  {
   "cell_type": "code",
   "execution_count": 129,
   "id": "17b8aba9",
   "metadata": {},
   "outputs": [
    {
     "data": {
      "text/html": [
       "<div>\n",
       "<style scoped>\n",
       "    .dataframe tbody tr th:only-of-type {\n",
       "        vertical-align: middle;\n",
       "    }\n",
       "\n",
       "    .dataframe tbody tr th {\n",
       "        vertical-align: top;\n",
       "    }\n",
       "\n",
       "    .dataframe thead th {\n",
       "        text-align: right;\n",
       "    }\n",
       "</style>\n",
       "<table border=\"1\" class=\"dataframe\">\n",
       "  <thead>\n",
       "    <tr style=\"text-align: right;\">\n",
       "      <th></th>\n",
       "      <th>method</th>\n",
       "      <th>number</th>\n",
       "      <th>orbital_period</th>\n",
       "      <th>mass</th>\n",
       "      <th>distance</th>\n",
       "      <th>year</th>\n",
       "      <th>numbers_each_years</th>\n",
       "    </tr>\n",
       "  </thead>\n",
       "  <tbody>\n",
       "    <tr>\n",
       "      <th>0</th>\n",
       "      <td>Radial Velocity</td>\n",
       "      <td>1</td>\n",
       "      <td>269.300</td>\n",
       "      <td>7.10</td>\n",
       "      <td>77.40</td>\n",
       "      <td>2006</td>\n",
       "      <td>43</td>\n",
       "    </tr>\n",
       "    <tr>\n",
       "      <th>1</th>\n",
       "      <td>Radial Velocity</td>\n",
       "      <td>1</td>\n",
       "      <td>874.774</td>\n",
       "      <td>2.21</td>\n",
       "      <td>56.95</td>\n",
       "      <td>2008</td>\n",
       "      <td>120</td>\n",
       "    </tr>\n",
       "    <tr>\n",
       "      <th>2</th>\n",
       "      <td>Radial Velocity</td>\n",
       "      <td>1</td>\n",
       "      <td>763.000</td>\n",
       "      <td>2.60</td>\n",
       "      <td>19.84</td>\n",
       "      <td>2011</td>\n",
       "      <td>354</td>\n",
       "    </tr>\n",
       "    <tr>\n",
       "      <th>3</th>\n",
       "      <td>Radial Velocity</td>\n",
       "      <td>1</td>\n",
       "      <td>326.030</td>\n",
       "      <td>19.40</td>\n",
       "      <td>110.62</td>\n",
       "      <td>2007</td>\n",
       "      <td>65</td>\n",
       "    </tr>\n",
       "    <tr>\n",
       "      <th>4</th>\n",
       "      <td>Radial Velocity</td>\n",
       "      <td>1</td>\n",
       "      <td>516.220</td>\n",
       "      <td>10.50</td>\n",
       "      <td>119.47</td>\n",
       "      <td>2009</td>\n",
       "      <td>131</td>\n",
       "    </tr>\n",
       "    <tr>\n",
       "      <th>5</th>\n",
       "      <td>Radial Velocity</td>\n",
       "      <td>1</td>\n",
       "      <td>185.840</td>\n",
       "      <td>4.80</td>\n",
       "      <td>76.39</td>\n",
       "      <td>2008</td>\n",
       "      <td>120</td>\n",
       "    </tr>\n",
       "    <tr>\n",
       "      <th>6</th>\n",
       "      <td>Radial Velocity</td>\n",
       "      <td>1</td>\n",
       "      <td>1773.400</td>\n",
       "      <td>4.64</td>\n",
       "      <td>18.15</td>\n",
       "      <td>2002</td>\n",
       "      <td>46</td>\n",
       "    </tr>\n",
       "    <tr>\n",
       "      <th>7</th>\n",
       "      <td>Radial Velocity</td>\n",
       "      <td>1</td>\n",
       "      <td>798.500</td>\n",
       "      <td>NaN</td>\n",
       "      <td>21.41</td>\n",
       "      <td>1996</td>\n",
       "      <td>15</td>\n",
       "    </tr>\n",
       "    <tr>\n",
       "      <th>8</th>\n",
       "      <td>Radial Velocity</td>\n",
       "      <td>1</td>\n",
       "      <td>993.300</td>\n",
       "      <td>10.30</td>\n",
       "      <td>73.10</td>\n",
       "      <td>2008</td>\n",
       "      <td>120</td>\n",
       "    </tr>\n",
       "    <tr>\n",
       "      <th>9</th>\n",
       "      <td>Radial Velocity</td>\n",
       "      <td>2</td>\n",
       "      <td>452.800</td>\n",
       "      <td>1.99</td>\n",
       "      <td>74.79</td>\n",
       "      <td>2010</td>\n",
       "      <td>193</td>\n",
       "    </tr>\n",
       "  </tbody>\n",
       "</table>\n",
       "</div>"
      ],
      "text/plain": [
       "            method  number  orbital_period   mass  distance  year  \\\n",
       "0  Radial Velocity       1         269.300   7.10     77.40  2006   \n",
       "1  Radial Velocity       1         874.774   2.21     56.95  2008   \n",
       "2  Radial Velocity       1         763.000   2.60     19.84  2011   \n",
       "3  Radial Velocity       1         326.030  19.40    110.62  2007   \n",
       "4  Radial Velocity       1         516.220  10.50    119.47  2009   \n",
       "5  Radial Velocity       1         185.840   4.80     76.39  2008   \n",
       "6  Radial Velocity       1        1773.400   4.64     18.15  2002   \n",
       "7  Radial Velocity       1         798.500    NaN     21.41  1996   \n",
       "8  Radial Velocity       1         993.300  10.30     73.10  2008   \n",
       "9  Radial Velocity       2         452.800   1.99     74.79  2010   \n",
       "\n",
       "   numbers_each_years  \n",
       "0                  43  \n",
       "1                 120  \n",
       "2                 354  \n",
       "3                  65  \n",
       "4                 131  \n",
       "5                 120  \n",
       "6                  46  \n",
       "7                  15  \n",
       "8                 120  \n",
       "9                 193  "
      ]
     },
     "execution_count": 129,
     "metadata": {},
     "output_type": "execute_result"
    }
   ],
   "source": [
    "planets['numbers_each_years'] = planets.groupby('year')['number'].transform(lambda x: x.sum())\n",
    "planets.head(10)"
   ]
  },
  {
   "cell_type": "markdown",
   "id": "a540a54e",
   "metadata": {},
   "source": [
    "4. (5 pt) Display the maximum orbital period for planets discovered by each method. Which method has the longest orbital periods?"
   ]
  },
  {
   "cell_type": "code",
   "execution_count": 136,
   "id": "6b189e9c",
   "metadata": {},
   "outputs": [
    {
     "data": {
      "text/plain": [
       "method\n",
       "Imaging                          730000.000000\n",
       "Pulsar Timing                     36525.000000\n",
       "Radial Velocity                   17337.500000\n",
       "Eclipse Timing Variations         10220.000000\n",
       "Microlensing                       5100.000000\n",
       "Pulsation Timing Variations        1170.000000\n",
       "Astrometry                         1016.000000\n",
       "Transit                             331.600590\n",
       "Transit Timing Variations           160.000000\n",
       "Orbital Brightness Modulation         1.544929\n",
       "Name: orbital_period, dtype: float64"
      ]
     },
     "execution_count": 136,
     "metadata": {},
     "output_type": "execute_result"
    }
   ],
   "source": [
    "planets.groupby('method')['orbital_period'].max().sort_values(ascending=False)"
   ]
  },
  {
   "cell_type": "code",
   "execution_count": 137,
   "id": "8d139dce",
   "metadata": {},
   "outputs": [
    {
     "name": "stdout",
     "output_type": "stream",
     "text": [
      "Method with longest orbital periods:\n"
     ]
    },
    {
     "data": {
      "text/plain": [
       "method\n",
       "Imaging    730000.0\n",
       "Name: orbital_period, dtype: float64"
      ]
     },
     "execution_count": 137,
     "metadata": {},
     "output_type": "execute_result"
    }
   ],
   "source": [
    "print(\"Method with longest orbital periods:\")\n",
    "planets.groupby('method')['orbital_period'].max().sort_values(ascending=False).head(1)"
   ]
  },
  {
   "cell_type": "markdown",
   "id": "41d0bb3b",
   "metadata": {},
   "source": [
    "-------------------------"
   ]
  },
  {
   "cell_type": "markdown",
   "id": "2965901c",
   "metadata": {},
   "source": [
    "## Problem 5 Dataframe Plot"
   ]
  },
  {
   "cell_type": "markdown",
   "id": "09e8295a",
   "metadata": {},
   "source": [
    "Using the same csv file (planets.csv) in problem 3 to solve the following questions:(Hint: [pd.Series.plot](https://pandas.pydata.org/docs/reference/api/pandas.Series.plot.html#pandas-series-plot))\\\n",
    "- plot requirements: \n",
    "- 1. should have one title \n",
    "- 2. should have xlabel and ylabel \n",
    "- 3. should have figsize \n",
    "- 4. should have grid line\n",
    "- 5. should have legend\n",
    "1. (10 pt) Display the total number of planets discovered in each year. Create a line plot of the number of planets discovered in each year. "
   ]
  },
  {
   "cell_type": "code",
   "execution_count": 151,
   "id": "2b62bfc4",
   "metadata": {},
   "outputs": [
    {
     "data": {
      "text/plain": [
       "<matplotlib.legend.Legend at 0x1d782fcec30>"
      ]
     },
     "execution_count": 151,
     "metadata": {},
     "output_type": "execute_result"
    },
    {
     "data": {
      "image/png": "[encoded data removed]",
      "text/plain": [
       "<Figure size 700x200 with 1 Axes>"
      ]
     },
     "metadata": {},
     "output_type": "display_data"
    }
   ],
   "source": [
    "planet_count = planets.groupby('year')['number'].sum().plot(\n",
    "    xlabel= 'Year', ylabel= '# of Planets Discovered', title='Planets Discovered by Year', grid=True, legend=True, figsize=(7,2))\n",
    "planet_count.legend(['Counts'])"
   ]
  },
  {
   "cell_type": "markdown",
   "id": "c81544b1",
   "metadata": {},
   "source": [
    "2. (10pt) Display the total number of planets discovered by each method. Create a bar plot of the number of planets discovered in each year. "
   ]
  },
  {
   "cell_type": "code",
   "execution_count": 154,
   "id": "4d8e22e0",
   "metadata": {},
   "outputs": [
    {
     "data": {
      "text/plain": [
       "<matplotlib.legend.Legend at 0x1d4218f17f0>"
      ]
     },
     "execution_count": 154,
     "metadata": {},
     "output_type": "execute_result"
    },
    {
     "data": {
      "image/png": "[encoded data removed]",
      "text/plain": [
       "<Figure size 500x200 with 1 Axes>"
      ]
     },
     "metadata": {},
     "output_type": "display_data"
    }
   ],
   "source": [
    "method_count = planets.groupby('method')['number'].sum().plot(\n",
    "    kind='bar', xlabel= 'Methods', ylabel= '# of Planets Discovered', title= 'Planets Discovered by Method', grid= True, legend= True, figsize= (5,2)\n",
    ")\n",
    "method_count.legend(['Counts'])"
   ]
  },
  {
   "cell_type": "markdown",
   "id": "23c2d34e",
   "metadata": {},
   "source": [
    "# DONE"
   ]
  }
 ],
 "metadata": {
  "kernelspec": {
   "display_name": "Python 3",
   "language": "python",
   "name": "python3"
  },
  "language_info": {
   "codemirror_mode": {
    "name": "ipython",
    "version": 3
   },
   "file_extension": ".py",
   "mimetype": "text/x-python",
   "name": "python",
   "nbconvert_exporter": "python",
   "pygments_lexer": "ipython3",
   "version": "3.12.0"
  }
 },
 "nbformat": 4,
 "nbformat_minor": 5
}
